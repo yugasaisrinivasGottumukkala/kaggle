{
 "cells": [
  {
   "cell_type": "markdown",
   "id": "4e2e1594",
   "metadata": {
    "papermill": {
     "duration": 0.00815,
     "end_time": "2023-08-31T06:31:24.082432",
     "exception": false,
     "start_time": "2023-08-31T06:31:24.074282",
     "status": "completed"
    },
    "tags": []
   },
   "source": [
    "**This notebook is an exercise in the [Intro to Programming](https://www.kaggle.com/learn/intro-to-programming) course.  You can reference the tutorial at [this link](https://www.kaggle.com/alexisbcook/data-types).**\n",
    "\n",
    "---\n"
   ]
  },
  {
   "cell_type": "markdown",
   "id": "f46e7820",
   "metadata": {
    "papermill": {
     "duration": 0.007102,
     "end_time": "2023-08-31T06:31:24.097052",
     "exception": false,
     "start_time": "2023-08-31T06:31:24.089950",
     "status": "completed"
    },
    "tags": []
   },
   "source": [
    "In the tutorial, you learned about four different data types: floats, integers, strings, and booleans.  In this exercise, you'll experiment with them.\n",
    "\n",
    "# Set up the notebook\n",
    "\n",
    "Run the next code cell without changes to set up the notebook."
   ]
  },
  {
   "cell_type": "code",
   "execution_count": 1,
   "id": "5e3f4c3a",
   "metadata": {
    "execution": {
     "iopub.execute_input": "2023-08-31T06:31:24.113907Z",
     "iopub.status.busy": "2023-08-31T06:31:24.113053Z",
     "iopub.status.idle": "2023-08-31T06:31:24.164070Z",
     "shell.execute_reply": "2023-08-31T06:31:24.162924Z"
    },
    "papermill": {
     "duration": 0.062361,
     "end_time": "2023-08-31T06:31:24.166521",
     "exception": false,
     "start_time": "2023-08-31T06:31:24.104160",
     "status": "completed"
    },
    "tags": []
   },
   "outputs": [
    {
     "name": "stdout",
     "output_type": "stream",
     "text": [
      "Setup complete.\n"
     ]
    }
   ],
   "source": [
    "# Set up the exercise\n",
    "from learntools.core import binder\n",
    "binder.bind(globals())\n",
    "from learntools.intro_to_programming.ex3 import *\n",
    "print('Setup complete.')"
   ]
  },
  {
   "cell_type": "markdown",
   "id": "8162c03c",
   "metadata": {
    "papermill": {
     "duration": 0.007115,
     "end_time": "2023-08-31T06:31:24.181263",
     "exception": false,
     "start_time": "2023-08-31T06:31:24.174148",
     "status": "completed"
    },
    "tags": []
   },
   "source": [
    "# Question 1\n",
    "\n",
    "You have seen how to convert a float to an integer with the `int` function.  Try this out yourself by running the code cell below."
   ]
  },
  {
   "cell_type": "code",
   "execution_count": 2,
   "id": "7282373d",
   "metadata": {
    "execution": {
     "iopub.execute_input": "2023-08-31T06:31:24.197844Z",
     "iopub.status.busy": "2023-08-31T06:31:24.197436Z",
     "iopub.status.idle": "2023-08-31T06:31:24.203237Z",
     "shell.execute_reply": "2023-08-31T06:31:24.202456Z"
    },
    "papermill": {
     "duration": 0.016795,
     "end_time": "2023-08-31T06:31:24.205501",
     "exception": false,
     "start_time": "2023-08-31T06:31:24.188706",
     "status": "completed"
    },
    "tags": []
   },
   "outputs": [
    {
     "name": "stdout",
     "output_type": "stream",
     "text": [
      "1.0\n",
      "<class 'float'>\n",
      "1\n",
      "<class 'int'>\n"
     ]
    }
   ],
   "source": [
    "# Define a float\n",
    "y = 1.\n",
    "print(y)\n",
    "print(type(y))\n",
    "\n",
    "# Convert float to integer with the int function\n",
    "z = int(y)\n",
    "print(z)\n",
    "print(type(z))"
   ]
  },
  {
   "cell_type": "markdown",
   "id": "d2e533ff",
   "metadata": {
    "papermill": {
     "duration": 0.008625,
     "end_time": "2023-08-31T06:31:24.221634",
     "exception": false,
     "start_time": "2023-08-31T06:31:24.213009",
     "status": "completed"
    },
    "tags": []
   },
   "source": [
    "In this case, the float you are using has no numbers after the decimal.  \n",
    "- But what happens when you try to convert a float with a fractional part to an integer?  \n",
    "- How does the outcome of the `int` function change for positive and negative numbers?\n",
    "\n",
    "Use the next code cell to investigate and answer these questions.  Feel free to add or remove any lines of code -- it is your workspace!"
   ]
  },
  {
   "cell_type": "code",
   "execution_count": 3,
   "id": "96ae5871",
   "metadata": {
    "execution": {
     "iopub.execute_input": "2023-08-31T06:31:24.239048Z",
     "iopub.status.busy": "2023-08-31T06:31:24.238150Z",
     "iopub.status.idle": "2023-08-31T06:31:24.243569Z",
     "shell.execute_reply": "2023-08-31T06:31:24.242876Z"
    },
    "papermill": {
     "duration": 0.016343,
     "end_time": "2023-08-31T06:31:24.245458",
     "exception": false,
     "start_time": "2023-08-31T06:31:24.229115",
     "status": "completed"
    },
    "tags": []
   },
   "outputs": [
    {
     "name": "stdout",
     "output_type": "stream",
     "text": [
      "1\n",
      "1\n",
      "-3\n",
      "-2\n"
     ]
    }
   ],
   "source": [
    "# Uncomment and run this code to get started!\n",
    "print(int(1.2321))\n",
    "print(int(1.747))\n",
    "print(int(-3.94535))\n",
    "print(int(-2.19774))"
   ]
  },
  {
   "cell_type": "markdown",
   "id": "5fde1499",
   "metadata": {
    "papermill": {
     "duration": 0.007211,
     "end_time": "2023-08-31T06:31:24.260300",
     "exception": false,
     "start_time": "2023-08-31T06:31:24.253089",
     "status": "completed"
    },
    "tags": []
   },
   "source": [
    "Once you have an answer, run the code cell below to see the solution.  Viewing the solution will give you credit for answering the problem."
   ]
  },
  {
   "cell_type": "code",
   "execution_count": 4,
   "id": "c2896006",
   "metadata": {
    "execution": {
     "iopub.execute_input": "2023-08-31T06:31:24.277201Z",
     "iopub.status.busy": "2023-08-31T06:31:24.276532Z",
     "iopub.status.idle": "2023-08-31T06:31:24.285634Z",
     "shell.execute_reply": "2023-08-31T06:31:24.284670Z"
    },
    "papermill": {
     "duration": 0.019676,
     "end_time": "2023-08-31T06:31:24.287608",
     "exception": false,
     "start_time": "2023-08-31T06:31:24.267932",
     "status": "completed"
    },
    "tags": []
   },
   "outputs": [
    {
     "data": {
      "application/javascript": [
       "parent.postMessage({\"jupyterEvent\": \"custom.exercise_interaction\", \"data\": {\"outcomeType\": 1, \"valueTowardsCompletion\": 0.2, \"interactionType\": 1, \"questionType\": 4, \"questionId\": \"1_FloatToInt\", \"learnToolsVersion\": \"0.3.4\", \"failureMessage\": \"\", \"exceptionClass\": \"\", \"trace\": \"\"}}, \"*\")"
      ],
      "text/plain": [
       "<IPython.core.display.Javascript object>"
      ]
     },
     "metadata": {},
     "output_type": "display_data"
    },
    {
     "data": {
      "text/markdown": [
       "<span style=\"color:#33cc33\">Correct:</span> \n",
       "\n",
       "Negative floats are always rounded UP to the closest integer (for instance, both -1.1 and -1.9 are rounded up to -1). Positive floats are always rounded DOWN to the closest integer (for instance, 2.1 and 2.9 are rounded down to 2)."
      ],
      "text/plain": [
       "Correct: \n",
       "\n",
       "Negative floats are always rounded UP to the closest integer (for instance, both -1.1 and -1.9 are rounded up to -1). Positive floats are always rounded DOWN to the closest integer (for instance, 2.1 and 2.9 are rounded down to 2)."
      ]
     },
     "metadata": {},
     "output_type": "display_data"
    }
   ],
   "source": [
    "# Check your answer (Run this code cell to receive credit!)\n",
    "q1.check()"
   ]
  },
  {
   "cell_type": "markdown",
   "id": "0e8dba97",
   "metadata": {
    "papermill": {
     "duration": 0.007486,
     "end_time": "2023-08-31T06:31:24.303043",
     "exception": false,
     "start_time": "2023-08-31T06:31:24.295557",
     "status": "completed"
    },
    "tags": []
   },
   "source": [
    "# Question 2\n",
    "\n",
    "In the tutorial, you learned about booleans (which can take a value of `True` or `False`), in addition to integers, floats, and strings.  For this question, your goal is to determine what happens when you multiply a boolean by any of these data types.  Specifically, \n",
    "- What happens when you multiply an integer or float by `True`?  What happens when you multiply them by `False`?  How does the answer change if the numbers are positive or negative?\n",
    "- What happens when you multiply a string by `True`?  By `False`?\n",
    "\n",
    "Use the next code cell for your investigation. "
   ]
  },
  {
   "cell_type": "code",
   "execution_count": 5,
   "id": "91381d6a",
   "metadata": {
    "execution": {
     "iopub.execute_input": "2023-08-31T06:31:24.320082Z",
     "iopub.status.busy": "2023-08-31T06:31:24.319685Z",
     "iopub.status.idle": "2023-08-31T06:31:24.325118Z",
     "shell.execute_reply": "2023-08-31T06:31:24.324164Z"
    },
    "papermill": {
     "duration": 0.016519,
     "end_time": "2023-08-31T06:31:24.327233",
     "exception": false,
     "start_time": "2023-08-31T06:31:24.310714",
     "status": "completed"
    },
    "tags": []
   },
   "outputs": [
    {
     "name": "stdout",
     "output_type": "stream",
     "text": [
      "3\n",
      "-3.1\n",
      "<class 'str'>\n",
      "0\n"
     ]
    }
   ],
   "source": [
    "# Uncomment and run this code to get started!\n",
    "print(3 * True)\n",
    "print(-3.1 * True)\n",
    "print(type(\"abc\" * False))\n",
    "print(len(\"abc\" * False))"
   ]
  },
  {
   "cell_type": "markdown",
   "id": "760063f7",
   "metadata": {
    "papermill": {
     "duration": 0.007514,
     "end_time": "2023-08-31T06:31:24.342819",
     "exception": false,
     "start_time": "2023-08-31T06:31:24.335305",
     "status": "completed"
    },
    "tags": []
   },
   "source": [
    "Once you have an answer, run the code cell below to see the solution.  Viewing the solution will give you credit for answering the problem."
   ]
  },
  {
   "cell_type": "code",
   "execution_count": 6,
   "id": "74efaf72",
   "metadata": {
    "execution": {
     "iopub.execute_input": "2023-08-31T06:31:24.359945Z",
     "iopub.status.busy": "2023-08-31T06:31:24.359553Z",
     "iopub.status.idle": "2023-08-31T06:31:24.367206Z",
     "shell.execute_reply": "2023-08-31T06:31:24.366184Z"
    },
    "papermill": {
     "duration": 0.018914,
     "end_time": "2023-08-31T06:31:24.369397",
     "exception": false,
     "start_time": "2023-08-31T06:31:24.350483",
     "status": "completed"
    },
    "tags": []
   },
   "outputs": [
    {
     "data": {
      "application/javascript": [
       "parent.postMessage({\"jupyterEvent\": \"custom.exercise_interaction\", \"data\": {\"outcomeType\": 1, \"valueTowardsCompletion\": 0.2, \"interactionType\": 1, \"questionType\": 4, \"questionId\": \"2_MultiplyBooleans\", \"learnToolsVersion\": \"0.3.4\", \"failureMessage\": \"\", \"exceptionClass\": \"\", \"trace\": \"\"}}, \"*\")"
      ],
      "text/plain": [
       "<IPython.core.display.Javascript object>"
      ]
     },
     "metadata": {},
     "output_type": "display_data"
    },
    {
     "data": {
      "text/markdown": [
       "<span style=\"color:#33cc33\">Correct:</span> \n",
       "\n",
       "When you multiple an integer or float by a boolean with value `True`, it just returns that same integer or float (and is equivalent to multiplying by 1).  If you multiply an integer or float by a boolean with value `False`, it always returns 0.  This is true for both positive and negative numbers.  If you multiply a string by a boolean with value `True`, it just returns that same string.  And if you multiply a string by a boolean with value `False`, it returns an empty string (or a string with length zero)."
      ],
      "text/plain": [
       "Correct: \n",
       "\n",
       "When you multiple an integer or float by a boolean with value `True`, it just returns that same integer or float (and is equivalent to multiplying by 1).  If you multiply an integer or float by a boolean with value `False`, it always returns 0.  This is true for both positive and negative numbers.  If you multiply a string by a boolean with value `True`, it just returns that same string.  And if you multiply a string by a boolean with value `False`, it returns an empty string (or a string with length zero)."
      ]
     },
     "metadata": {},
     "output_type": "display_data"
    }
   ],
   "source": [
    "# Check your answer (Run this code cell to receive credit!)\n",
    "q2.check()"
   ]
  },
  {
   "cell_type": "markdown",
   "id": "044d8efc",
   "metadata": {
    "papermill": {
     "duration": 0.00787,
     "end_time": "2023-08-31T06:31:24.385559",
     "exception": false,
     "start_time": "2023-08-31T06:31:24.377689",
     "status": "completed"
    },
    "tags": []
   },
   "source": [
    "# Question 3\n",
    "\n",
    "In this question, you will build off your work from the previous exercise to write a function that estimates the value of a house.\n",
    "\n",
    "Use the next code cell to create a function `get_expected_cost` that takes as input three variables:\n",
    "- `beds` - number of bedrooms (data type float)\n",
    "- `baths` - number of bathrooms (data type float)\n",
    "- `has_basement` - whether or not the house has a basement (data type boolean)\n",
    "\n",
    "It should return the expected cost of a house with those characteristics. Assume that:\n",
    "- the expected cost for a house with 0 bedrooms and 0 bathrooms, and no basement is 80000, \n",
    "- each bedroom adds 30000 to the expected cost,\n",
    "- each bathroom adds 10000 to the expected cost, and\n",
    "- a basement adds 40000 to the expected cost.\n",
    "\n",
    "For instance,\n",
    "- a house with 1 bedroom, 1 bathroom, and no basement has an expected cost of 80000 + 30000 + 10000 = 120000.  This value will be calculated with `get_expected_cost(1, 1, False)`.\n",
    "- a house with 2 bedrooms, 1 bathroom, and a basement has an expected cost of 80000 + 2*30000 + 10000 + 40000 = 190000.  This value will be calculated with `get_expected_cost(2, 1, True)`.\n",
    "\n",
    "Remember you can always get a hint by uncommenting `q3.hint()` in the code cell following the next!"
   ]
  },
  {
   "cell_type": "code",
   "execution_count": 7,
   "id": "3ffbe4c3",
   "metadata": {
    "execution": {
     "iopub.execute_input": "2023-08-31T06:31:24.403610Z",
     "iopub.status.busy": "2023-08-31T06:31:24.403213Z",
     "iopub.status.idle": "2023-08-31T06:31:24.412467Z",
     "shell.execute_reply": "2023-08-31T06:31:24.411436Z"
    },
    "papermill": {
     "duration": 0.020917,
     "end_time": "2023-08-31T06:31:24.414536",
     "exception": false,
     "start_time": "2023-08-31T06:31:24.393619",
     "status": "completed"
    },
    "tags": []
   },
   "outputs": [
    {
     "data": {
      "application/javascript": [
       "parent.postMessage({\"jupyterEvent\": \"custom.exercise_interaction\", \"data\": {\"outcomeType\": 1, \"valueTowardsCompletion\": 0.2, \"interactionType\": 1, \"questionType\": 2, \"questionId\": \"3_EstimateHouseValueBool\", \"learnToolsVersion\": \"0.3.4\", \"failureMessage\": \"\", \"exceptionClass\": \"\", \"trace\": \"\"}}, \"*\")"
      ],
      "text/plain": [
       "<IPython.core.display.Javascript object>"
      ]
     },
     "metadata": {},
     "output_type": "display_data"
    },
    {
     "data": {
      "text/markdown": [
       "<span style=\"color:#33cc33\">Correct</span>"
      ],
      "text/plain": [
       "Correct"
      ]
     },
     "metadata": {},
     "output_type": "display_data"
    }
   ],
   "source": [
    "# TODO: Complete the function\n",
    "def get_expected_cost(beds, baths, has_basement):\n",
    "    value = 80000 + beds*30000 + baths*10000 + 40000*has_basement\n",
    "    return value\n",
    "\n",
    "# Check your answer \n",
    "q3.check()"
   ]
  },
  {
   "cell_type": "code",
   "execution_count": 8,
   "id": "6937a2d5",
   "metadata": {
    "execution": {
     "iopub.execute_input": "2023-08-31T06:31:24.433383Z",
     "iopub.status.busy": "2023-08-31T06:31:24.432976Z",
     "iopub.status.idle": "2023-08-31T06:31:24.444801Z",
     "shell.execute_reply": "2023-08-31T06:31:24.443815Z"
    },
    "papermill": {
     "duration": 0.024035,
     "end_time": "2023-08-31T06:31:24.447141",
     "exception": false,
     "start_time": "2023-08-31T06:31:24.423106",
     "status": "completed"
    },
    "tags": []
   },
   "outputs": [
    {
     "data": {
      "application/javascript": [
       "parent.postMessage({\"jupyterEvent\": \"custom.exercise_interaction\", \"data\": {\"interactionType\": 2, \"questionType\": 2, \"questionId\": \"3_EstimateHouseValueBool\", \"learnToolsVersion\": \"0.3.4\", \"valueTowardsCompletion\": 0.0, \"failureMessage\": \"\", \"exceptionClass\": \"\", \"trace\": \"\", \"outcomeType\": 4}}, \"*\")"
      ],
      "text/plain": [
       "<IPython.core.display.Javascript object>"
      ]
     },
     "metadata": {},
     "output_type": "display_data"
    },
    {
     "data": {
      "text/markdown": [
       "<span style=\"color:#3366cc\">Hint:</span> The variable `has_basement` is either `True` or `False`.  What happens when you multiply it by 40000 (the value of a basement)?  Refer to the previous question if you are unsure."
      ],
      "text/plain": [
       "Hint: The variable `has_basement` is either `True` or `False`.  What happens when you multiply it by 40000 (the value of a basement)?  Refer to the previous question if you are unsure."
      ]
     },
     "metadata": {},
     "output_type": "display_data"
    },
    {
     "data": {
      "application/javascript": [
       "parent.postMessage({\"jupyterEvent\": \"custom.exercise_interaction\", \"data\": {\"interactionType\": 3, \"questionType\": 2, \"questionId\": \"3_EstimateHouseValueBool\", \"learnToolsVersion\": \"0.3.4\", \"valueTowardsCompletion\": 0.0, \"failureMessage\": \"\", \"exceptionClass\": \"\", \"trace\": \"\", \"outcomeType\": 4}}, \"*\")"
      ],
      "text/plain": [
       "<IPython.core.display.Javascript object>"
      ]
     },
     "metadata": {},
     "output_type": "display_data"
    },
    {
     "data": {
      "text/markdown": [
       "<span style=\"color:#33cc99\">Solution:</span> \n",
       "```python\n",
       "def get_expected_cost(beds, baths, has_basement):\n",
       "    value = 80000 + 30000 * beds + 10000 * baths + 40000 * has_basement\n",
       "    return value\n",
       "\n",
       "```"
      ],
      "text/plain": [
       "Solution: \n",
       "```python\n",
       "def get_expected_cost(beds, baths, has_basement):\n",
       "    value = 80000 + 30000 * beds + 10000 * baths + 40000 * has_basement\n",
       "    return value\n",
       "\n",
       "```"
      ]
     },
     "metadata": {},
     "output_type": "display_data"
    }
   ],
   "source": [
    "# Uncomment to see a hint\n",
    "q3.hint()\n",
    "\n",
    "# Uncomment to view the solution\n",
    "q3.solution()"
   ]
  },
  {
   "cell_type": "markdown",
   "id": "430691ca",
   "metadata": {
    "papermill": {
     "duration": 0.009135,
     "end_time": "2023-08-31T06:31:24.465680",
     "exception": false,
     "start_time": "2023-08-31T06:31:24.456545",
     "status": "completed"
    },
    "tags": []
   },
   "source": [
    "# Question 4\n",
    "\n",
    "We'll continue our study of boolean arithmetic.  For this question, your task is to provide a description of what happpens when you add booleans. \n",
    "\n",
    "Use the next code cell for your investigation.  Feel free to add or remove any lines of code - use it as your workspace!"
   ]
  },
  {
   "cell_type": "code",
   "execution_count": 9,
   "id": "6bed2c92",
   "metadata": {
    "execution": {
     "iopub.execute_input": "2023-08-31T06:31:24.485272Z",
     "iopub.status.busy": "2023-08-31T06:31:24.484913Z",
     "iopub.status.idle": "2023-08-31T06:31:24.490218Z",
     "shell.execute_reply": "2023-08-31T06:31:24.489167Z"
    },
    "papermill": {
     "duration": 0.017955,
     "end_time": "2023-08-31T06:31:24.492567",
     "exception": false,
     "start_time": "2023-08-31T06:31:24.474612",
     "status": "completed"
    },
    "tags": []
   },
   "outputs": [
    {
     "name": "stdout",
     "output_type": "stream",
     "text": [
      "0\n",
      "1\n",
      "1\n",
      "2\n",
      "3\n"
     ]
    }
   ],
   "source": [
    "print(False + False)\n",
    "print(True + False)\n",
    "print(False + True)\n",
    "print(True + True)\n",
    "print(False + True + True + True)"
   ]
  },
  {
   "cell_type": "markdown",
   "id": "77436b9f",
   "metadata": {
    "papermill": {
     "duration": 0.008806,
     "end_time": "2023-08-31T06:31:24.510328",
     "exception": false,
     "start_time": "2023-08-31T06:31:24.501522",
     "status": "completed"
    },
    "tags": []
   },
   "source": [
    "Once you have an answer, run the code cell below to see the solution.  Viewing the solution will give you credit for answering the problem."
   ]
  },
  {
   "cell_type": "code",
   "execution_count": 10,
   "id": "5cb7ffce",
   "metadata": {
    "execution": {
     "iopub.execute_input": "2023-08-31T06:31:24.530402Z",
     "iopub.status.busy": "2023-08-31T06:31:24.529709Z",
     "iopub.status.idle": "2023-08-31T06:31:24.537985Z",
     "shell.execute_reply": "2023-08-31T06:31:24.536770Z"
    },
    "papermill": {
     "duration": 0.02083,
     "end_time": "2023-08-31T06:31:24.540267",
     "exception": false,
     "start_time": "2023-08-31T06:31:24.519437",
     "status": "completed"
    },
    "tags": []
   },
   "outputs": [
    {
     "data": {
      "application/javascript": [
       "parent.postMessage({\"jupyterEvent\": \"custom.exercise_interaction\", \"data\": {\"outcomeType\": 1, \"valueTowardsCompletion\": 0.2, \"interactionType\": 1, \"questionType\": 4, \"questionId\": \"4_AddingBooleans\", \"learnToolsVersion\": \"0.3.4\", \"failureMessage\": \"\", \"exceptionClass\": \"\", \"trace\": \"\"}}, \"*\")"
      ],
      "text/plain": [
       "<IPython.core.display.Javascript object>"
      ]
     },
     "metadata": {},
     "output_type": "display_data"
    },
    {
     "data": {
      "text/markdown": [
       "<span style=\"color:#33cc33\">Correct:</span> \n",
       "\n",
       "When you add booleans, adding `False` is equivalent to adding 0, and adding `True` is equivalent to adding 1."
      ],
      "text/plain": [
       "Correct: \n",
       "\n",
       "When you add booleans, adding `False` is equivalent to adding 0, and adding `True` is equivalent to adding 1."
      ]
     },
     "metadata": {},
     "output_type": "display_data"
    }
   ],
   "source": [
    "# Check your answer (Run this code cell to receive credit!)\n",
    "q4.check()"
   ]
  },
  {
   "cell_type": "markdown",
   "id": "076fd17d",
   "metadata": {
    "papermill": {
     "duration": 0.009233,
     "end_time": "2023-08-31T06:31:24.558865",
     "exception": false,
     "start_time": "2023-08-31T06:31:24.549632",
     "status": "completed"
    },
    "tags": []
   },
   "source": [
    "# 🌶️ Question 5\n",
    "\n",
    "You own an online shop where you sell rings with custom engravings.  You offer both gold plated and solid gold rings.\n",
    "- Gold plated rings have a base cost of \\\\$50, and you charge \\\\$7 per engraved unit.  \n",
    "- Solid gold rings have a base cost of \\\\$100, and you charge \\\\$10 per engraved unit.\n",
    "- Spaces and punctuation are counted as engraved units.\n",
    "\n",
    "Write a function `cost_of_project()` that takes two arguments:\n",
    "- `engraving` - a Python string with the text of the engraving\n",
    "- `solid_gold` - a Boolean that indicates whether the ring is solid gold\n",
    "\n",
    "It should return the cost of the project.  This question should be fairly challenging, and you may need a hint."
   ]
  },
  {
   "cell_type": "code",
   "execution_count": 11,
   "id": "55e1bbea",
   "metadata": {
    "execution": {
     "iopub.execute_input": "2023-08-31T06:31:24.579261Z",
     "iopub.status.busy": "2023-08-31T06:31:24.578451Z",
     "iopub.status.idle": "2023-08-31T06:31:24.587661Z",
     "shell.execute_reply": "2023-08-31T06:31:24.586722Z"
    },
    "papermill": {
     "duration": 0.021609,
     "end_time": "2023-08-31T06:31:24.589685",
     "exception": false,
     "start_time": "2023-08-31T06:31:24.568076",
     "status": "completed"
    },
    "tags": []
   },
   "outputs": [
    {
     "data": {
      "application/javascript": [
       "parent.postMessage({\"jupyterEvent\": \"custom.exercise_interaction\", \"data\": {\"outcomeType\": 1, \"valueTowardsCompletion\": 0.2, \"interactionType\": 1, \"questionType\": 2, \"questionId\": \"5_CustomEngravings\", \"learnToolsVersion\": \"0.3.4\", \"failureMessage\": \"\", \"exceptionClass\": \"\", \"trace\": \"\"}}, \"*\")"
      ],
      "text/plain": [
       "<IPython.core.display.Javascript object>"
      ]
     },
     "metadata": {},
     "output_type": "display_data"
    },
    {
     "data": {
      "text/markdown": [
       "<span style=\"color:#33cc33\">Correct</span>"
      ],
      "text/plain": [
       "Correct"
      ]
     },
     "metadata": {},
     "output_type": "display_data"
    }
   ],
   "source": [
    "def cost_of_project(engraving, solid_gold):\n",
    "    cost = (len(engraving)*10+100)*solid_gold + (len(engraving)*7+50)* (not solid_gold)\n",
    "    return cost\n",
    "\n",
    "# Check your answer\n",
    "q5.check()"
   ]
  },
  {
   "cell_type": "code",
   "execution_count": 12,
   "id": "f400b968",
   "metadata": {
    "execution": {
     "iopub.execute_input": "2023-08-31T06:31:24.612280Z",
     "iopub.status.busy": "2023-08-31T06:31:24.611782Z",
     "iopub.status.idle": "2023-08-31T06:31:24.626362Z",
     "shell.execute_reply": "2023-08-31T06:31:24.624612Z"
    },
    "papermill": {
     "duration": 0.029925,
     "end_time": "2023-08-31T06:31:24.629311",
     "exception": false,
     "start_time": "2023-08-31T06:31:24.599386",
     "status": "completed"
    },
    "tags": []
   },
   "outputs": [
    {
     "data": {
      "application/javascript": [
       "parent.postMessage({\"jupyterEvent\": \"custom.exercise_interaction\", \"data\": {\"interactionType\": 2, \"questionType\": 2, \"questionId\": \"5_CustomEngravings\", \"learnToolsVersion\": \"0.3.4\", \"valueTowardsCompletion\": 0.0, \"failureMessage\": \"\", \"exceptionClass\": \"\", \"trace\": \"\", \"outcomeType\": 4}}, \"*\")"
      ],
      "text/plain": [
       "<IPython.core.display.Javascript object>"
      ]
     },
     "metadata": {},
     "output_type": "display_data"
    },
    {
     "data": {
      "text/markdown": [
       "<span style=\"color:#3366cc\">Hint:</span> There are two options - either the project uses solid gold or does not.  With this in mind, you can structure your solution like this: `cost = solid_gold * ____ + (not solid_gold) * ____`.  You need to figure out how to fill in the blanks. Also, remember that:\n",
       "- If `solid_gold = True`, then `(not solid_gold) = False`, and if `solid_gold = False`, then `(not solid_gold) = True`.\n",
       "- Multiplying an integer by `True` is equivalent to multiplying it by 1, and multiplying an integer by `False` is equivalent to multiplying it by 0."
      ],
      "text/plain": [
       "Hint: There are two options - either the project uses solid gold or does not.  With this in mind, you can structure your solution like this: `cost = solid_gold * ____ + (not solid_gold) * ____`.  You need to figure out how to fill in the blanks. Also, remember that:\n",
       "- If `solid_gold = True`, then `(not solid_gold) = False`, and if `solid_gold = False`, then `(not solid_gold) = True`.\n",
       "- Multiplying an integer by `True` is equivalent to multiplying it by 1, and multiplying an integer by `False` is equivalent to multiplying it by 0."
      ]
     },
     "metadata": {},
     "output_type": "display_data"
    },
    {
     "data": {
      "application/javascript": [
       "parent.postMessage({\"jupyterEvent\": \"custom.exercise_interaction\", \"data\": {\"interactionType\": 3, \"questionType\": 2, \"questionId\": \"5_CustomEngravings\", \"learnToolsVersion\": \"0.3.4\", \"valueTowardsCompletion\": 0.0, \"failureMessage\": \"\", \"exceptionClass\": \"\", \"trace\": \"\", \"outcomeType\": 4}}, \"*\")"
      ],
      "text/plain": [
       "<IPython.core.display.Javascript object>"
      ]
     },
     "metadata": {},
     "output_type": "display_data"
    },
    {
     "data": {
      "text/markdown": [
       "<span style=\"color:#33cc99\">Solution:</span> \n",
       "```python\n",
       "def cost_of_project(engraving, solid_gold):\n",
       "    cost = solid_gold * (100 + 10 * len(engraving)) + (not solid_gold) * (50 + 7 * len(engraving))\n",
       "    return cost\n",
       "\n",
       "```"
      ],
      "text/plain": [
       "Solution: \n",
       "```python\n",
       "def cost_of_project(engraving, solid_gold):\n",
       "    cost = solid_gold * (100 + 10 * len(engraving)) + (not solid_gold) * (50 + 7 * len(engraving))\n",
       "    return cost\n",
       "\n",
       "```"
      ]
     },
     "metadata": {},
     "output_type": "display_data"
    }
   ],
   "source": [
    "# Uncomment to see a hint\n",
    "q5.hint()\n",
    "\n",
    "# Uncomment to view the solution\n",
    "q5.solution()"
   ]
  },
  {
   "cell_type": "markdown",
   "id": "24a20ba8",
   "metadata": {
    "papermill": {
     "duration": 0.01092,
     "end_time": "2023-08-31T06:31:24.652394",
     "exception": false,
     "start_time": "2023-08-31T06:31:24.641474",
     "status": "completed"
    },
    "tags": []
   },
   "source": [
    "Run the next code cell to calculate the cost of engraving `Charlie+Denver` on a solid gold ring."
   ]
  },
  {
   "cell_type": "code",
   "execution_count": 13,
   "id": "18ae5581",
   "metadata": {
    "execution": {
     "iopub.execute_input": "2023-08-31T06:31:24.679255Z",
     "iopub.status.busy": "2023-08-31T06:31:24.678883Z",
     "iopub.status.idle": "2023-08-31T06:31:24.683783Z",
     "shell.execute_reply": "2023-08-31T06:31:24.682738Z"
    },
    "papermill": {
     "duration": 0.020823,
     "end_time": "2023-08-31T06:31:24.685782",
     "exception": false,
     "start_time": "2023-08-31T06:31:24.664959",
     "status": "completed"
    },
    "tags": []
   },
   "outputs": [
    {
     "name": "stdout",
     "output_type": "stream",
     "text": [
      "240\n"
     ]
    }
   ],
   "source": [
    "project_one = cost_of_project(\"Charlie+Denver\", True)\n",
    "print(project_one)"
   ]
  },
  {
   "cell_type": "markdown",
   "id": "c5a3baeb",
   "metadata": {
    "papermill": {
     "duration": 0.013267,
     "end_time": "2023-08-31T06:31:24.709256",
     "exception": false,
     "start_time": "2023-08-31T06:31:24.695989",
     "status": "completed"
    },
    "tags": []
   },
   "source": [
    "Use the next code cell to calculate the cost of engraving `08/10/2000` on a gold plated ring."
   ]
  },
  {
   "cell_type": "code",
   "execution_count": 14,
   "id": "02f03465",
   "metadata": {
    "execution": {
     "iopub.execute_input": "2023-08-31T06:31:24.738265Z",
     "iopub.status.busy": "2023-08-31T06:31:24.737782Z",
     "iopub.status.idle": "2023-08-31T06:31:24.747966Z",
     "shell.execute_reply": "2023-08-31T06:31:24.744362Z"
    },
    "papermill": {
     "duration": 0.029322,
     "end_time": "2023-08-31T06:31:24.751208",
     "exception": false,
     "start_time": "2023-08-31T06:31:24.721886",
     "status": "completed"
    },
    "tags": []
   },
   "outputs": [
    {
     "name": "stdout",
     "output_type": "stream",
     "text": [
      "120\n"
     ]
    }
   ],
   "source": [
    "project_two = cost_of_project(\"08/10/2000\", False)\n",
    "print(project_two)"
   ]
  },
  {
   "cell_type": "markdown",
   "id": "c456c779",
   "metadata": {
    "papermill": {
     "duration": 0.011128,
     "end_time": "2023-08-31T06:31:24.775445",
     "exception": false,
     "start_time": "2023-08-31T06:31:24.764317",
     "status": "completed"
    },
    "tags": []
   },
   "source": [
    "# Keep going\n",
    "\n",
    "Continue to the next lesson to **[learn about conditions and conditional statements](https://www.kaggle.com/alexisbcook/conditions-and-conditional-statements)**."
   ]
  },
  {
   "cell_type": "markdown",
   "id": "abbc05bb",
   "metadata": {
    "papermill": {
     "duration": 0.009745,
     "end_time": "2023-08-31T06:31:24.800536",
     "exception": false,
     "start_time": "2023-08-31T06:31:24.790791",
     "status": "completed"
    },
    "tags": []
   },
   "source": [
    "---\n",
    "\n",
    "\n",
    "\n",
    "\n",
    "*Have questions or comments? Visit the [course discussion forum](https://www.kaggle.com/learn/intro-to-programming/discussion) to chat with other learners.*"
   ]
  }
 ],
 "kernelspec": {
  "display_name": "Python 3",
  "language": "python",
  "name": "python3"
 },
 "language_info": {
  "codemirror_mode": {
   "name": "ipython",
   "version": 3
  },
  "file_extension": ".py",
  "mimetype": "text/x-python",
  "name": "python",
  "nbconvert_exporter": "python",
  "pygments_lexer": "ipython3",
  "version": "3.6.4"
 },
 "metadata": {
  "kernelspec": {
   "display_name": "Python 3",
   "language": "python",
   "name": "python3"
  },
  "language_info": {
   "codemirror_mode": {
    "name": "ipython",
    "version": 3
   },
   "file_extension": ".py",
   "mimetype": "text/x-python",
   "name": "python",
   "nbconvert_exporter": "python",
   "pygments_lexer": "ipython3",
   "version": "3.10.12"
  },
  "papermill": {
   "default_parameters": {},
   "duration": 10.959845,
   "end_time": "2023-08-31T06:31:25.631125",
   "environment_variables": {},
   "exception": null,
   "input_path": "__notebook__.ipynb",
   "output_path": "__notebook__.ipynb",
   "parameters": {},
   "start_time": "2023-08-31T06:31:14.671280",
   "version": "2.3.3"
  }
 },
 "nbformat": 4,
 "nbformat_minor": 5
}
